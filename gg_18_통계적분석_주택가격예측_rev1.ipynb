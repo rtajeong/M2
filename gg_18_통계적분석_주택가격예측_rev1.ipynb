{
  "nbformat": 4,
  "nbformat_minor": 0,
  "metadata": {
    "_change_revision": 0,
    "_is_fork": false,
    "kernelspec": {
      "display_name": "Python 3",
      "language": "python",
      "name": "python3"
    },
    "language_info": {
      "codemirror_mode": {
        "name": "ipython",
        "version": 3
      },
      "file_extension": ".py",
      "mimetype": "text/x-python",
      "name": "python",
      "nbconvert_exporter": "python",
      "pygments_lexer": "ipython3",
      "version": "3.6.8"
    },
    "colab": {
      "name": "gg-18-통계적분석-주택가격예측_rev1.ipynb",
      "provenance": [],
      "collapsed_sections": [
        "vxV7xnuiGIzv",
        "heKQkLJiGIzw",
        "X5AY4GccGIzy",
        "L0qKv5ZXGIzz",
        "LIxhotnrGIzz",
        "yTGssLwQGIz3",
        "bBU6bGVUGIz6",
        "8nct-4MNGIz-",
        "QqIxuZ_-GI0A",
        "ud6TovJ7GI0G",
        "MWN0I_31GI0M",
        "Kk8-K7ThGI0N",
        "lkK-BsFNGI0O",
        "K1HzBoxFGI0O"
      ],
      "include_colab_link": true
    }
  },
  "cells": [
    {
      "cell_type": "markdown",
      "metadata": {
        "id": "view-in-github",
        "colab_type": "text"
      },
      "source": [
        "<a href=\"https://colab.research.google.com/github/rtajeong/M2/blob/main/gg_18_%ED%86%B5%EA%B3%84%EC%A0%81%EB%B6%84%EC%84%9D_%EC%A3%BC%ED%83%9D%EA%B0%80%EA%B2%A9%EC%98%88%EC%B8%A1_rev1.ipynb\" target=\"_parent\"><img src=\"https://colab.research.google.com/assets/colab-badge.svg\" alt=\"Open In Colab\"/></a>"
      ]
    },
    {
      "cell_type": "markdown",
      "metadata": {
        "_cell_guid": "e3bc4854-2787-eae1-950d-2742ad3d7db2",
        "_uuid": "d507f816cc74a88c9afefd02cf225d1a7dd6461f",
        "id": "pwPelyjZGIzj"
      },
      "source": [
        "## 통계적 분석\n",
        "\n",
        "- 상관관계가 큰 변수 찾기\n",
        "- 결측치 처리\n",
        "- 이상치 처리\n",
        "- 로그 변환\n",
        "\n",
        "### 데이터 (주택가격 예측 데이터)\n",
        "- 아래 캐글 데이터를 다운받아 'data/house_data'폴더에 저장한다.\n",
        "  https://www.kaggle.com/c/house-prices-advanced-regression-techniques/data"
      ]
    },
    {
      "cell_type": "markdown",
      "metadata": {
        "id": "Eoo1VBiQGIzm"
      },
      "source": [
        "- https://medium.com/mighty-data-science-bootcamp/eda-%EB%8D%B0%EC%9D%B4%ED%84%B0-%EC%84%A4%EB%AA%85%EC%84%9C%EC%97%90%EC%84%9C-%EC%8B%9C%EC%9E%91%ED%95%98%EA%B8%B0-230060b9fc17"
      ]
    },
    {
      "cell_type": "code",
      "metadata": {
        "colab": {
          "base_uri": "https://localhost:8080/"
        },
        "id": "xHuZbsFQGIzn",
        "outputId": "1613d25d-59c8-499b-ef25-4aac0f40cdf4"
      },
      "source": [
        "!pip install seaborn"
      ],
      "execution_count": 4,
      "outputs": [
        {
          "output_type": "stream",
          "text": [
            "Requirement already satisfied: seaborn in /usr/local/lib/python3.7/dist-packages (0.11.1)\n",
            "Requirement already satisfied: scipy>=1.0 in /usr/local/lib/python3.7/dist-packages (from seaborn) (1.4.1)\n",
            "Requirement already satisfied: matplotlib>=2.2 in /usr/local/lib/python3.7/dist-packages (from seaborn) (3.2.2)\n",
            "Requirement already satisfied: numpy>=1.15 in /usr/local/lib/python3.7/dist-packages (from seaborn) (1.19.5)\n",
            "Requirement already satisfied: pandas>=0.23 in /usr/local/lib/python3.7/dist-packages (from seaborn) (1.1.5)\n",
            "Requirement already satisfied: pyparsing!=2.0.4,!=2.1.2,!=2.1.6,>=2.0.1 in /usr/local/lib/python3.7/dist-packages (from matplotlib>=2.2->seaborn) (2.4.7)\n",
            "Requirement already satisfied: cycler>=0.10 in /usr/local/lib/python3.7/dist-packages (from matplotlib>=2.2->seaborn) (0.10.0)\n",
            "Requirement already satisfied: kiwisolver>=1.0.1 in /usr/local/lib/python3.7/dist-packages (from matplotlib>=2.2->seaborn) (1.3.1)\n",
            "Requirement already satisfied: python-dateutil>=2.1 in /usr/local/lib/python3.7/dist-packages (from matplotlib>=2.2->seaborn) (2.8.1)\n",
            "Requirement already satisfied: pytz>=2017.2 in /usr/local/lib/python3.7/dist-packages (from pandas>=0.23->seaborn) (2018.9)\n",
            "Requirement already satisfied: six in /usr/local/lib/python3.7/dist-packages (from cycler>=0.10->matplotlib>=2.2->seaborn) (1.15.0)\n"
          ],
          "name": "stdout"
        }
      ]
    },
    {
      "cell_type": "code",
      "metadata": {
        "_cell_guid": "2df621e0-e03c-7aaa-6e08-40ed1d7dfecc",
        "_execution_state": "idle",
        "_uuid": "d581f6797b9fde1580271358d484df67bf6b14a1",
        "id": "-eckY_H-GIzo"
      },
      "source": [
        "import pandas as pd\n",
        "import matplotlib.pyplot as plt\n",
        "import seaborn as sns\n",
        "import numpy as np\n",
        "from scipy.stats import norm\n",
        "from sklearn.preprocessing import StandardScaler\n",
        "from scipy import stats\n",
        "import warnings\n",
        "warnings.filterwarnings('ignore')\n",
        "%matplotlib inline"
      ],
      "execution_count": 5,
      "outputs": []
    },
    {
      "cell_type": "code",
      "metadata": {
        "_cell_guid": "d56d5e71-4277-7a74-5306-7d5af4c7f263",
        "_execution_state": "idle",
        "_uuid": "827a72128cd211cf6af16b003e7c09951e3f2b1e",
        "scrolled": true,
        "colab": {
          "base_uri": "https://localhost:8080/",
          "height": 252
        },
        "id": "KUZHPzcaGIzp",
        "outputId": "43a77aaa-fafd-4826-a7c3-8b6d86fb206b"
      },
      "source": [
        "df_train = pd.read_csv('house_train.csv')\n",
        "df_train.head()"
      ],
      "execution_count": 7,
      "outputs": [
        {
          "output_type": "execute_result",
          "data": {
            "text/html": [
              "<div>\n",
              "<style scoped>\n",
              "    .dataframe tbody tr th:only-of-type {\n",
              "        vertical-align: middle;\n",
              "    }\n",
              "\n",
              "    .dataframe tbody tr th {\n",
              "        vertical-align: top;\n",
              "    }\n",
              "\n",
              "    .dataframe thead th {\n",
              "        text-align: right;\n",
              "    }\n",
              "</style>\n",
              "<table border=\"1\" class=\"dataframe\">\n",
              "  <thead>\n",
              "    <tr style=\"text-align: right;\">\n",
              "      <th></th>\n",
              "      <th>Id</th>\n",
              "      <th>MSSubClass</th>\n",
              "      <th>MSZoning</th>\n",
              "      <th>LotFrontage</th>\n",
              "      <th>LotArea</th>\n",
              "      <th>Street</th>\n",
              "      <th>Alley</th>\n",
              "      <th>LotShape</th>\n",
              "      <th>LandContour</th>\n",
              "      <th>Utilities</th>\n",
              "      <th>LotConfig</th>\n",
              "      <th>LandSlope</th>\n",
              "      <th>Neighborhood</th>\n",
              "      <th>Condition1</th>\n",
              "      <th>Condition2</th>\n",
              "      <th>BldgType</th>\n",
              "      <th>HouseStyle</th>\n",
              "      <th>OverallQual</th>\n",
              "      <th>OverallCond</th>\n",
              "      <th>YearBuilt</th>\n",
              "      <th>YearRemodAdd</th>\n",
              "      <th>RoofStyle</th>\n",
              "      <th>RoofMatl</th>\n",
              "      <th>Exterior1st</th>\n",
              "      <th>Exterior2nd</th>\n",
              "      <th>MasVnrType</th>\n",
              "      <th>MasVnrArea</th>\n",
              "      <th>ExterQual</th>\n",
              "      <th>ExterCond</th>\n",
              "      <th>Foundation</th>\n",
              "      <th>BsmtQual</th>\n",
              "      <th>BsmtCond</th>\n",
              "      <th>BsmtExposure</th>\n",
              "      <th>BsmtFinType1</th>\n",
              "      <th>BsmtFinSF1</th>\n",
              "      <th>BsmtFinType2</th>\n",
              "      <th>BsmtFinSF2</th>\n",
              "      <th>BsmtUnfSF</th>\n",
              "      <th>TotalBsmtSF</th>\n",
              "      <th>Heating</th>\n",
              "      <th>...</th>\n",
              "      <th>CentralAir</th>\n",
              "      <th>Electrical</th>\n",
              "      <th>1stFlrSF</th>\n",
              "      <th>2ndFlrSF</th>\n",
              "      <th>LowQualFinSF</th>\n",
              "      <th>GrLivArea</th>\n",
              "      <th>BsmtFullBath</th>\n",
              "      <th>BsmtHalfBath</th>\n",
              "      <th>FullBath</th>\n",
              "      <th>HalfBath</th>\n",
              "      <th>BedroomAbvGr</th>\n",
              "      <th>KitchenAbvGr</th>\n",
              "      <th>KitchenQual</th>\n",
              "      <th>TotRmsAbvGrd</th>\n",
              "      <th>Functional</th>\n",
              "      <th>Fireplaces</th>\n",
              "      <th>FireplaceQu</th>\n",
              "      <th>GarageType</th>\n",
              "      <th>GarageYrBlt</th>\n",
              "      <th>GarageFinish</th>\n",
              "      <th>GarageCars</th>\n",
              "      <th>GarageArea</th>\n",
              "      <th>GarageQual</th>\n",
              "      <th>GarageCond</th>\n",
              "      <th>PavedDrive</th>\n",
              "      <th>WoodDeckSF</th>\n",
              "      <th>OpenPorchSF</th>\n",
              "      <th>EnclosedPorch</th>\n",
              "      <th>3SsnPorch</th>\n",
              "      <th>ScreenPorch</th>\n",
              "      <th>PoolArea</th>\n",
              "      <th>PoolQC</th>\n",
              "      <th>Fence</th>\n",
              "      <th>MiscFeature</th>\n",
              "      <th>MiscVal</th>\n",
              "      <th>MoSold</th>\n",
              "      <th>YrSold</th>\n",
              "      <th>SaleType</th>\n",
              "      <th>SaleCondition</th>\n",
              "      <th>SalePrice</th>\n",
              "    </tr>\n",
              "  </thead>\n",
              "  <tbody>\n",
              "    <tr>\n",
              "      <th>0</th>\n",
              "      <td>1</td>\n",
              "      <td>60</td>\n",
              "      <td>RL</td>\n",
              "      <td>65.0</td>\n",
              "      <td>8450</td>\n",
              "      <td>Pave</td>\n",
              "      <td>NaN</td>\n",
              "      <td>Reg</td>\n",
              "      <td>Lvl</td>\n",
              "      <td>AllPub</td>\n",
              "      <td>Inside</td>\n",
              "      <td>Gtl</td>\n",
              "      <td>CollgCr</td>\n",
              "      <td>Norm</td>\n",
              "      <td>Norm</td>\n",
              "      <td>1Fam</td>\n",
              "      <td>2Story</td>\n",
              "      <td>7</td>\n",
              "      <td>5</td>\n",
              "      <td>2003</td>\n",
              "      <td>2003</td>\n",
              "      <td>Gable</td>\n",
              "      <td>CompShg</td>\n",
              "      <td>VinylSd</td>\n",
              "      <td>VinylSd</td>\n",
              "      <td>BrkFace</td>\n",
              "      <td>196.0</td>\n",
              "      <td>Gd</td>\n",
              "      <td>TA</td>\n",
              "      <td>PConc</td>\n",
              "      <td>Gd</td>\n",
              "      <td>TA</td>\n",
              "      <td>No</td>\n",
              "      <td>GLQ</td>\n",
              "      <td>706</td>\n",
              "      <td>Unf</td>\n",
              "      <td>0</td>\n",
              "      <td>150</td>\n",
              "      <td>856</td>\n",
              "      <td>GasA</td>\n",
              "      <td>...</td>\n",
              "      <td>Y</td>\n",
              "      <td>SBrkr</td>\n",
              "      <td>856</td>\n",
              "      <td>854</td>\n",
              "      <td>0</td>\n",
              "      <td>1710</td>\n",
              "      <td>1</td>\n",
              "      <td>0</td>\n",
              "      <td>2</td>\n",
              "      <td>1</td>\n",
              "      <td>3</td>\n",
              "      <td>1</td>\n",
              "      <td>Gd</td>\n",
              "      <td>8</td>\n",
              "      <td>Typ</td>\n",
              "      <td>0</td>\n",
              "      <td>NaN</td>\n",
              "      <td>Attchd</td>\n",
              "      <td>2003.0</td>\n",
              "      <td>RFn</td>\n",
              "      <td>2</td>\n",
              "      <td>548</td>\n",
              "      <td>TA</td>\n",
              "      <td>TA</td>\n",
              "      <td>Y</td>\n",
              "      <td>0</td>\n",
              "      <td>61</td>\n",
              "      <td>0</td>\n",
              "      <td>0</td>\n",
              "      <td>0</td>\n",
              "      <td>0</td>\n",
              "      <td>NaN</td>\n",
              "      <td>NaN</td>\n",
              "      <td>NaN</td>\n",
              "      <td>0</td>\n",
              "      <td>2</td>\n",
              "      <td>2008</td>\n",
              "      <td>WD</td>\n",
              "      <td>Normal</td>\n",
              "      <td>208500</td>\n",
              "    </tr>\n",
              "    <tr>\n",
              "      <th>1</th>\n",
              "      <td>2</td>\n",
              "      <td>20</td>\n",
              "      <td>RL</td>\n",
              "      <td>80.0</td>\n",
              "      <td>9600</td>\n",
              "      <td>Pave</td>\n",
              "      <td>NaN</td>\n",
              "      <td>Reg</td>\n",
              "      <td>Lvl</td>\n",
              "      <td>AllPub</td>\n",
              "      <td>FR2</td>\n",
              "      <td>Gtl</td>\n",
              "      <td>Veenker</td>\n",
              "      <td>Feedr</td>\n",
              "      <td>Norm</td>\n",
              "      <td>1Fam</td>\n",
              "      <td>1Story</td>\n",
              "      <td>6</td>\n",
              "      <td>8</td>\n",
              "      <td>1976</td>\n",
              "      <td>1976</td>\n",
              "      <td>Gable</td>\n",
              "      <td>CompShg</td>\n",
              "      <td>MetalSd</td>\n",
              "      <td>MetalSd</td>\n",
              "      <td>None</td>\n",
              "      <td>0.0</td>\n",
              "      <td>TA</td>\n",
              "      <td>TA</td>\n",
              "      <td>CBlock</td>\n",
              "      <td>Gd</td>\n",
              "      <td>TA</td>\n",
              "      <td>Gd</td>\n",
              "      <td>ALQ</td>\n",
              "      <td>978</td>\n",
              "      <td>Unf</td>\n",
              "      <td>0</td>\n",
              "      <td>284</td>\n",
              "      <td>1262</td>\n",
              "      <td>GasA</td>\n",
              "      <td>...</td>\n",
              "      <td>Y</td>\n",
              "      <td>SBrkr</td>\n",
              "      <td>1262</td>\n",
              "      <td>0</td>\n",
              "      <td>0</td>\n",
              "      <td>1262</td>\n",
              "      <td>0</td>\n",
              "      <td>1</td>\n",
              "      <td>2</td>\n",
              "      <td>0</td>\n",
              "      <td>3</td>\n",
              "      <td>1</td>\n",
              "      <td>TA</td>\n",
              "      <td>6</td>\n",
              "      <td>Typ</td>\n",
              "      <td>1</td>\n",
              "      <td>TA</td>\n",
              "      <td>Attchd</td>\n",
              "      <td>1976.0</td>\n",
              "      <td>RFn</td>\n",
              "      <td>2</td>\n",
              "      <td>460</td>\n",
              "      <td>TA</td>\n",
              "      <td>TA</td>\n",
              "      <td>Y</td>\n",
              "      <td>298</td>\n",
              "      <td>0</td>\n",
              "      <td>0</td>\n",
              "      <td>0</td>\n",
              "      <td>0</td>\n",
              "      <td>0</td>\n",
              "      <td>NaN</td>\n",
              "      <td>NaN</td>\n",
              "      <td>NaN</td>\n",
              "      <td>0</td>\n",
              "      <td>5</td>\n",
              "      <td>2007</td>\n",
              "      <td>WD</td>\n",
              "      <td>Normal</td>\n",
              "      <td>181500</td>\n",
              "    </tr>\n",
              "    <tr>\n",
              "      <th>2</th>\n",
              "      <td>3</td>\n",
              "      <td>60</td>\n",
              "      <td>RL</td>\n",
              "      <td>68.0</td>\n",
              "      <td>11250</td>\n",
              "      <td>Pave</td>\n",
              "      <td>NaN</td>\n",
              "      <td>IR1</td>\n",
              "      <td>Lvl</td>\n",
              "      <td>AllPub</td>\n",
              "      <td>Inside</td>\n",
              "      <td>Gtl</td>\n",
              "      <td>CollgCr</td>\n",
              "      <td>Norm</td>\n",
              "      <td>Norm</td>\n",
              "      <td>1Fam</td>\n",
              "      <td>2Story</td>\n",
              "      <td>7</td>\n",
              "      <td>5</td>\n",
              "      <td>2001</td>\n",
              "      <td>2002</td>\n",
              "      <td>Gable</td>\n",
              "      <td>CompShg</td>\n",
              "      <td>VinylSd</td>\n",
              "      <td>VinylSd</td>\n",
              "      <td>BrkFace</td>\n",
              "      <td>162.0</td>\n",
              "      <td>Gd</td>\n",
              "      <td>TA</td>\n",
              "      <td>PConc</td>\n",
              "      <td>Gd</td>\n",
              "      <td>TA</td>\n",
              "      <td>Mn</td>\n",
              "      <td>GLQ</td>\n",
              "      <td>486</td>\n",
              "      <td>Unf</td>\n",
              "      <td>0</td>\n",
              "      <td>434</td>\n",
              "      <td>920</td>\n",
              "      <td>GasA</td>\n",
              "      <td>...</td>\n",
              "      <td>Y</td>\n",
              "      <td>SBrkr</td>\n",
              "      <td>920</td>\n",
              "      <td>866</td>\n",
              "      <td>0</td>\n",
              "      <td>1786</td>\n",
              "      <td>1</td>\n",
              "      <td>0</td>\n",
              "      <td>2</td>\n",
              "      <td>1</td>\n",
              "      <td>3</td>\n",
              "      <td>1</td>\n",
              "      <td>Gd</td>\n",
              "      <td>6</td>\n",
              "      <td>Typ</td>\n",
              "      <td>1</td>\n",
              "      <td>TA</td>\n",
              "      <td>Attchd</td>\n",
              "      <td>2001.0</td>\n",
              "      <td>RFn</td>\n",
              "      <td>2</td>\n",
              "      <td>608</td>\n",
              "      <td>TA</td>\n",
              "      <td>TA</td>\n",
              "      <td>Y</td>\n",
              "      <td>0</td>\n",
              "      <td>42</td>\n",
              "      <td>0</td>\n",
              "      <td>0</td>\n",
              "      <td>0</td>\n",
              "      <td>0</td>\n",
              "      <td>NaN</td>\n",
              "      <td>NaN</td>\n",
              "      <td>NaN</td>\n",
              "      <td>0</td>\n",
              "      <td>9</td>\n",
              "      <td>2008</td>\n",
              "      <td>WD</td>\n",
              "      <td>Normal</td>\n",
              "      <td>223500</td>\n",
              "    </tr>\n",
              "    <tr>\n",
              "      <th>3</th>\n",
              "      <td>4</td>\n",
              "      <td>70</td>\n",
              "      <td>RL</td>\n",
              "      <td>60.0</td>\n",
              "      <td>9550</td>\n",
              "      <td>Pave</td>\n",
              "      <td>NaN</td>\n",
              "      <td>IR1</td>\n",
              "      <td>Lvl</td>\n",
              "      <td>AllPub</td>\n",
              "      <td>Corner</td>\n",
              "      <td>Gtl</td>\n",
              "      <td>Crawfor</td>\n",
              "      <td>Norm</td>\n",
              "      <td>Norm</td>\n",
              "      <td>1Fam</td>\n",
              "      <td>2Story</td>\n",
              "      <td>7</td>\n",
              "      <td>5</td>\n",
              "      <td>1915</td>\n",
              "      <td>1970</td>\n",
              "      <td>Gable</td>\n",
              "      <td>CompShg</td>\n",
              "      <td>Wd Sdng</td>\n",
              "      <td>Wd Shng</td>\n",
              "      <td>None</td>\n",
              "      <td>0.0</td>\n",
              "      <td>TA</td>\n",
              "      <td>TA</td>\n",
              "      <td>BrkTil</td>\n",
              "      <td>TA</td>\n",
              "      <td>Gd</td>\n",
              "      <td>No</td>\n",
              "      <td>ALQ</td>\n",
              "      <td>216</td>\n",
              "      <td>Unf</td>\n",
              "      <td>0</td>\n",
              "      <td>540</td>\n",
              "      <td>756</td>\n",
              "      <td>GasA</td>\n",
              "      <td>...</td>\n",
              "      <td>Y</td>\n",
              "      <td>SBrkr</td>\n",
              "      <td>961</td>\n",
              "      <td>756</td>\n",
              "      <td>0</td>\n",
              "      <td>1717</td>\n",
              "      <td>1</td>\n",
              "      <td>0</td>\n",
              "      <td>1</td>\n",
              "      <td>0</td>\n",
              "      <td>3</td>\n",
              "      <td>1</td>\n",
              "      <td>Gd</td>\n",
              "      <td>7</td>\n",
              "      <td>Typ</td>\n",
              "      <td>1</td>\n",
              "      <td>Gd</td>\n",
              "      <td>Detchd</td>\n",
              "      <td>1998.0</td>\n",
              "      <td>Unf</td>\n",
              "      <td>3</td>\n",
              "      <td>642</td>\n",
              "      <td>TA</td>\n",
              "      <td>TA</td>\n",
              "      <td>Y</td>\n",
              "      <td>0</td>\n",
              "      <td>35</td>\n",
              "      <td>272</td>\n",
              "      <td>0</td>\n",
              "      <td>0</td>\n",
              "      <td>0</td>\n",
              "      <td>NaN</td>\n",
              "      <td>NaN</td>\n",
              "      <td>NaN</td>\n",
              "      <td>0</td>\n",
              "      <td>2</td>\n",
              "      <td>2006</td>\n",
              "      <td>WD</td>\n",
              "      <td>Abnorml</td>\n",
              "      <td>140000</td>\n",
              "    </tr>\n",
              "    <tr>\n",
              "      <th>4</th>\n",
              "      <td>5</td>\n",
              "      <td>60</td>\n",
              "      <td>RL</td>\n",
              "      <td>84.0</td>\n",
              "      <td>14260</td>\n",
              "      <td>Pave</td>\n",
              "      <td>NaN</td>\n",
              "      <td>IR1</td>\n",
              "      <td>Lvl</td>\n",
              "      <td>AllPub</td>\n",
              "      <td>FR2</td>\n",
              "      <td>Gtl</td>\n",
              "      <td>NoRidge</td>\n",
              "      <td>Norm</td>\n",
              "      <td>Norm</td>\n",
              "      <td>1Fam</td>\n",
              "      <td>2Story</td>\n",
              "      <td>8</td>\n",
              "      <td>5</td>\n",
              "      <td>2000</td>\n",
              "      <td>2000</td>\n",
              "      <td>Gable</td>\n",
              "      <td>CompShg</td>\n",
              "      <td>VinylSd</td>\n",
              "      <td>VinylSd</td>\n",
              "      <td>BrkFace</td>\n",
              "      <td>350.0</td>\n",
              "      <td>Gd</td>\n",
              "      <td>TA</td>\n",
              "      <td>PConc</td>\n",
              "      <td>Gd</td>\n",
              "      <td>TA</td>\n",
              "      <td>Av</td>\n",
              "      <td>GLQ</td>\n",
              "      <td>655</td>\n",
              "      <td>Unf</td>\n",
              "      <td>0</td>\n",
              "      <td>490</td>\n",
              "      <td>1145</td>\n",
              "      <td>GasA</td>\n",
              "      <td>...</td>\n",
              "      <td>Y</td>\n",
              "      <td>SBrkr</td>\n",
              "      <td>1145</td>\n",
              "      <td>1053</td>\n",
              "      <td>0</td>\n",
              "      <td>2198</td>\n",
              "      <td>1</td>\n",
              "      <td>0</td>\n",
              "      <td>2</td>\n",
              "      <td>1</td>\n",
              "      <td>4</td>\n",
              "      <td>1</td>\n",
              "      <td>Gd</td>\n",
              "      <td>9</td>\n",
              "      <td>Typ</td>\n",
              "      <td>1</td>\n",
              "      <td>TA</td>\n",
              "      <td>Attchd</td>\n",
              "      <td>2000.0</td>\n",
              "      <td>RFn</td>\n",
              "      <td>3</td>\n",
              "      <td>836</td>\n",
              "      <td>TA</td>\n",
              "      <td>TA</td>\n",
              "      <td>Y</td>\n",
              "      <td>192</td>\n",
              "      <td>84</td>\n",
              "      <td>0</td>\n",
              "      <td>0</td>\n",
              "      <td>0</td>\n",
              "      <td>0</td>\n",
              "      <td>NaN</td>\n",
              "      <td>NaN</td>\n",
              "      <td>NaN</td>\n",
              "      <td>0</td>\n",
              "      <td>12</td>\n",
              "      <td>2008</td>\n",
              "      <td>WD</td>\n",
              "      <td>Normal</td>\n",
              "      <td>250000</td>\n",
              "    </tr>\n",
              "  </tbody>\n",
              "</table>\n",
              "<p>5 rows × 81 columns</p>\n",
              "</div>"
            ],
            "text/plain": [
              "   Id  MSSubClass MSZoning  ...  SaleType  SaleCondition SalePrice\n",
              "0   1          60       RL  ...        WD         Normal    208500\n",
              "1   2          20       RL  ...        WD         Normal    181500\n",
              "2   3          60       RL  ...        WD         Normal    223500\n",
              "3   4          70       RL  ...        WD        Abnorml    140000\n",
              "4   5          60       RL  ...        WD         Normal    250000\n",
              "\n",
              "[5 rows x 81 columns]"
            ]
          },
          "metadata": {
            "tags": []
          },
          "execution_count": 7
        }
      ]
    },
    {
      "cell_type": "code",
      "metadata": {
        "id": "TKGLI4JuGIzp"
      },
      "source": [
        "df_train.columns"
      ],
      "execution_count": null,
      "outputs": []
    },
    {
      "cell_type": "markdown",
      "metadata": {
        "id": "hKHEDFLXGIzp"
      },
      "source": [
        "### 특성값 설명\n",
        "- SalePrice - the property's sale price in dollars (target variable)\n",
        "- MSSubClass: The building class\n",
        "- MSZoning: The general zoning classification\n",
        "- LotFrontage: Linear feet of street connected to property\n",
        "- LotArea: Lot size in square feet\n",
        "- Street: Type of road access\n",
        "- Alley: Type of alley access\n",
        "- LotShape: General shape of property\n",
        "- LandContour: Flatness of the property\n",
        "- Utilities: Type of utilities available\n",
        "- LotConfig: Lot configuration\n",
        "- LandSlope: Slope of property\n",
        "- Neighborhood: Physical locations within Ames city limits\n",
        "- Condition1: Proximity to main road or railroad\n",
        "- Condition2: Proximity to main road or railroad (if a second is present)\n",
        "- BldgType: Type of dwelling\n",
        "- HouseStyle: Style of dwelling\n",
        "- OverallQual: Overall material and finish quality\n",
        "- OverallCond: Overall condition rating\n",
        "- YearBuilt: Original construction date\n",
        "- YearRemodAdd: Remodel date\n",
        "- RoofStyle: Type of roof\n",
        "- RoofMatl: Roof material\n",
        "- Exterior1st: Exterior covering on house\n",
        "- Exterior2nd: Exterior covering on house (if more than one material)\n",
        "- MasVnrType: Masonry veneer type\n",
        "- MasVnrArea: Masonry veneer area in square feet\n",
        "- ExterQual: Exterior material quality\n",
        "- ExterCond: Present condition of the material on the exterior\n",
        "- Foundation: Type of foundation\n",
        "- BsmtQual: Height of the basement\n",
        "- BsmtCond: General condition of the basement\n",
        "- BsmtExposure: Walkout or garden level basement walls\n",
        "- BsmtFinType1: Quality of basement finished area\n",
        "- BsmtFinSF1: Type 1 finished square feet\n",
        "- BsmtFinType2: Quality of second finished area (if present)\n",
        "- BsmtFinSF2: Type 2 finished square feet\n",
        "- BsmtUnfSF: Unfinished square feet of basement area\n",
        "- TotalBsmtSF: Total square feet of basement area\n",
        "- Heating: Type of heating\n",
        "- HeatingQC: Heating quality and condition\n",
        "- CentralAir: Central air conditioning\n",
        "- Electrical: Electrical system\n",
        "- 1stFlrSF: First Floor square feet\n",
        "- 2ndFlrSF: Second floor square feet\n",
        "- LowQualFinSF: Low quality finished square feet (all floors)\n",
        "- GrLivArea: Above grade (ground) living area square feet\n",
        "- BsmtFullBath: Basement full bathrooms\n",
        "- BsmtHalfBath: Basement half bathrooms\n",
        "- FullBath: Full bathrooms above grade\n",
        "- HalfBath: Half baths above grade\n",
        "- Bedroom: Number of bedrooms above basement level\n",
        "- Kitchen: Number of kitchens\n",
        "- KitchenQual: Kitchen quality\n",
        "- TotRmsAbvGrd: Total rooms above grade (does not include bathrooms)\n",
        "- Functional: Home functionality rating\n",
        "- Fireplaces: Number of fireplaces\n",
        "- FireplaceQu: Fireplace quality\n",
        "- GarageType: Garage location\n",
        "- GarageYrBlt: Year garage was built\n",
        "- GarageFinish: Interior finish of the garage\n",
        "- GarageCars: Size of garage in car capacity\n",
        "- GarageArea: Size of garage in square feet\n",
        "- GarageQual: Garage quality\n",
        "- GarageCond: Garage condition\n",
        "- PavedDrive: Paved driveway\n",
        "- WoodDeckSF: Wood deck area in square feet\n",
        "- OpenPorchSF: Open porch area in square feet\n",
        "- EnclosedPorch: Enclosed porch area in square feet\n",
        "- 3SsnPorch: Three season porch area in square feet\n",
        "- ScreenPorch: Screen porch area in square feet\n",
        "- PoolArea: Pool area in square feet\n",
        "- PoolQC: Pool quality\n",
        "- Fence: Fence quality\n",
        "- MiscFeature: Miscellaneous feature not covered in other categories\n",
        "- MiscVal: $Value of miscellaneous feature\n",
        "- MoSold: Month Sold\n",
        "- YrSold: Year Sold\n",
        "- SaleType: Type of sale\n",
        "- SaleCondition: Condition of sale"
      ]
    },
    {
      "cell_type": "code",
      "metadata": {
        "id": "y_Sor7CNGIzr"
      },
      "source": [
        "df_train.shape"
      ],
      "execution_count": null,
      "outputs": []
    },
    {
      "cell_type": "markdown",
      "metadata": {
        "id": "K1w9Yb6OGIzr"
      },
      "source": [
        "### Target (목적변수) 의 특성 파악"
      ]
    },
    {
      "cell_type": "code",
      "metadata": {
        "_cell_guid": "54452e23-f4d3-919f-c734-80a35dc9ae08",
        "_execution_state": "idle",
        "_uuid": "5c15e1bd10b8e71c0b1d62bdb260882585a35579",
        "id": "PIyddI7_GIzr"
      },
      "source": [
        "# 목적 변수의 통계적 특성\n",
        "df_train['SalePrice'].describe()"
      ],
      "execution_count": null,
      "outputs": []
    },
    {
      "cell_type": "code",
      "metadata": {
        "id": "v3ORwJ4CGIzs"
      },
      "source": [
        "# 히스토그램\n",
        "plt.hist(df_train['SalePrice'], bins=50)"
      ],
      "execution_count": null,
      "outputs": []
    },
    {
      "cell_type": "code",
      "metadata": {
        "id": "cliR1EPnGIzt"
      },
      "source": [
        "sns.kdeplot(df_train['SalePrice'])"
      ],
      "execution_count": null,
      "outputs": []
    },
    {
      "cell_type": "code",
      "metadata": {
        "scrolled": true,
        "id": "2KeJ__oLGIzt"
      },
      "source": [
        "# 히스토그램\n",
        "# sns.distplot(): This function combines the matplotlib hist function (with automatic \n",
        "# calculation of a good default bin size) with the seaborn kdeplot() and rugplot() \n",
        "# functions. It can also fit scipy.stats distributions and plot the estimated PDF \n",
        "# over the data.\n",
        "# Flexibly plot a univariate distribution of observations. \n",
        "# y-axis is density rather than  count.\n",
        "sns.distplot(df_train['SalePrice'], kde=True); # kde - kernel density estimation"
      ],
      "execution_count": null,
      "outputs": []
    },
    {
      "cell_type": "markdown",
      "metadata": {
        "_cell_guid": "f4e257f0-1dfd-0774-b346-f2a1b2a068cc",
        "_uuid": "f84e60c8b934615e53af10823558fe42753ac25d",
        "id": "I8ptdP5mGIzu"
      },
      "source": [
        "#### 다음과 같은 특성을 발견할 수 있다.\n",
        "\n",
        "- Deviate from the normal distribution\n",
        "- Have appreciable positive skewness\n",
        "- Show peakedness"
      ]
    },
    {
      "cell_type": "markdown",
      "metadata": {
        "id": "Pt8KSMPKGIzu"
      },
      "source": [
        "- 첨도: 뾰족한 정도가 표준정규뷴포와 같으며, 0 보다 크면 그보다 더 뾰족함.\n",
        "  (관측치들이 어느 정도 집중적으로 중심에 몰려 있는가를 측정할 때 사용)\n",
        "  첨도값(K)이 3에 가까우면 산포도가 정규분포에 가깝다. 3보다 작을 경우에는(K<3) \n",
        "  정규분포보다 더 완만하게 납작한 분포로 판단할 수 있으며, 첨도값이 3보다 큰 \n",
        "  양수이면(K>3) 산포는 정규분포보다 더 뾰족한 분포로 생각할 수 있다"
      ]
    },
    {
      "cell_type": "code",
      "metadata": {
        "_cell_guid": "36766737-f1a3-fe40-dbec-63c31be4d5e0",
        "_execution_state": "idle",
        "_uuid": "2cb253768dcd75b9a450ee264626ce69c808096a",
        "scrolled": true,
        "id": "EeGfiGS7GIzu"
      },
      "source": [
        "#skewness and kurtosis (kurto'sis)\n",
        "print(\"Skewness: %f\" % df_train['SalePrice'].skew())\n",
        "print(\"Kurtosis: %f\" % df_train['SalePrice'].kurt())          # old-type\n",
        "print(\"Kurtosis: {:f}\".format(df_train['SalePrice'].kurt()))  # string format()"
      ],
      "execution_count": null,
      "outputs": []
    },
    {
      "cell_type": "code",
      "metadata": {
        "id": "kacqAZmjGIzu"
      },
      "source": [
        "sns.distplot(np.log(df_train['SalePrice']), kde=True)  # log-normal dist"
      ],
      "execution_count": null,
      "outputs": []
    },
    {
      "cell_type": "markdown",
      "metadata": {
        "id": "vxV7xnuiGIzv"
      },
      "source": [
        "### 어떤 변수들이 목적변수와 연관성이 높은가? \n",
        "- 변수들간의 상관 관계는 correlation (상관관계) 을 보면 알 수 있다. \n",
        "- 상관관계를 보기 전에 먼저 target 과 특정 변수와의 관계를 보고 싶다면..."
      ]
    },
    {
      "cell_type": "code",
      "metadata": {
        "_cell_guid": "db040973-0adc-e126-e657-1d8934b5a5c8",
        "_execution_state": "idle",
        "_uuid": "91160363898f5caeee965a1aa81eb3abb7dcd760",
        "id": "vrQvOkVpGIzv"
      },
      "source": [
        "# 산포도를 통해 grlivarea 와 saleprice 의 관계를 보자\n",
        "var = 'GrLivArea'\n",
        "data = pd.concat([df_train['SalePrice'], df_train[var]], axis=1)\n",
        "data.head(2)"
      ],
      "execution_count": null,
      "outputs": []
    },
    {
      "cell_type": "code",
      "metadata": {
        "_cell_guid": "db040973-0adc-e126-e657-1d8934b5a5c8",
        "_execution_state": "idle",
        "_uuid": "91160363898f5caeee965a1aa81eb3abb7dcd760",
        "scrolled": false,
        "id": "zKzMmLZ6GIzv"
      },
      "source": [
        "data.plot.scatter(x=var, y='SalePrice', ylim=(0,800000));"
      ],
      "execution_count": null,
      "outputs": []
    },
    {
      "cell_type": "code",
      "metadata": {
        "id": "bJvk_30GGIzw"
      },
      "source": [
        "# plt.scatter 로도 그릴 수 있다.\n",
        "# data[var].shape, data.SalePrice.shape\n",
        "# plt.scatter(data[var], data.SalePrice);"
      ],
      "execution_count": null,
      "outputs": []
    },
    {
      "cell_type": "code",
      "metadata": {
        "_cell_guid": "353def35-0f26-998d-b9a4-7356f95e80ad",
        "_execution_state": "idle",
        "_uuid": "3ac3db51311338fcdc16014a7c506cf3d5315af7",
        "id": "ZjEjowYCGIzw"
      },
      "source": [
        "# scatter plot for totalbsmtsf/saleprice\n",
        "var = 'TotalBsmtSF'\n",
        "data = pd.concat([df_train['SalePrice'], df_train[var]], axis=1)\n",
        "data.plot.scatter(x=var, y='SalePrice', ylim=(0,800000));"
      ],
      "execution_count": null,
      "outputs": []
    },
    {
      "cell_type": "markdown",
      "metadata": {
        "_cell_guid": "b31bc890-46bf-618c-e668-17879763ad23",
        "_uuid": "5550d4df3c0ad48d8b2b9b0905f17daa3fc8d244",
        "id": "heKQkLJiGIzw"
      },
      "source": [
        "### 카테고리 변수와의 관계: 박스플롯으로 보면 편리"
      ]
    },
    {
      "cell_type": "code",
      "metadata": {
        "id": "YyRdpqpIGIzw"
      },
      "source": [
        "print(df_train.shape)\n",
        "print(df_train['OverallQual'].unique())\n",
        "print(set(df_train['OverallQual']))\n",
        "print(df_train['OverallQual'].dtypes)\n",
        "df_train['OverallQual'].value_counts()"
      ],
      "execution_count": null,
      "outputs": []
    },
    {
      "cell_type": "code",
      "metadata": {
        "id": "DYqLCOmtGIzx"
      },
      "source": [
        "print(df_train['GarageCars'].unique())\n",
        "df_train['GarageCars'].dtypes\n",
        "df_train['GarageCars'].value_counts()"
      ],
      "execution_count": null,
      "outputs": []
    },
    {
      "cell_type": "code",
      "metadata": {
        "_cell_guid": "26d0fddc-cb09-af7d-9f03-a07233fa6c9e",
        "_execution_state": "idle",
        "_uuid": "e2b7aaccc3486a74a09996289a833ffb6acd0764",
        "id": "AZMYKTHDGIzx"
      },
      "source": [
        "# 박스플롯 overallqual/saleprice\n",
        "var = 'OverallQual'\n",
        "data = pd.concat([df_train['SalePrice'], df_train[var]], axis=1) \n",
        "data.head(2)"
      ],
      "execution_count": null,
      "outputs": []
    },
    {
      "cell_type": "code",
      "metadata": {
        "_cell_guid": "26d0fddc-cb09-af7d-9f03-a07233fa6c9e",
        "_execution_state": "idle",
        "_uuid": "e2b7aaccc3486a74a09996289a833ffb6acd0764",
        "scrolled": true,
        "id": "WPpuDYS3GIzx"
      },
      "source": [
        "data.plot.scatter(x=var, y='SalePrice', ylim=(0,800000));"
      ],
      "execution_count": null,
      "outputs": []
    },
    {
      "cell_type": "markdown",
      "metadata": {
        "id": "X5AY4GccGIzy"
      },
      "source": [
        "### scatter plot 보다는 boxplot 으로 보는 게 좋을 듯...\n",
        "- df.polt.box() 도 있지만 받아들이는 데이터의 형태가 다름 (dataframe manual 참고)"
      ]
    },
    {
      "cell_type": "code",
      "metadata": {
        "_cell_guid": "26d0fddc-cb09-af7d-9f03-a07233fa6c9e",
        "_execution_state": "idle",
        "_uuid": "e2b7aaccc3486a74a09996289a833ffb6acd0764",
        "id": "Mrc6G4zXGIzy"
      },
      "source": [
        "# f, ax = plt.subplots(figsize=(8, 6))\n",
        "plt.subplots(figsize=(8, 6))\n",
        "fig = sns.boxplot(x=var, y=\"SalePrice\", data=data)\n",
        "fig.axis(ymin=0, ymax=800000);"
      ],
      "execution_count": null,
      "outputs": []
    },
    {
      "cell_type": "code",
      "metadata": {
        "id": "PGvoKmD2GIzy"
      },
      "source": [
        "var = 'GarageCars'\n",
        "data = pd.concat([df_train['SalePrice'], df_train[var]], axis=1) # axis=0 은 위아래로 추가.\n",
        "data.head()\n",
        "plt.subplots(figsize=(8, 6))\n",
        "fig = sns.boxplot(x=var, y=\"SalePrice\", data=data)\n",
        "fig.axis(ymin=0, ymax=800000);"
      ],
      "execution_count": null,
      "outputs": []
    },
    {
      "cell_type": "code",
      "metadata": {
        "_cell_guid": "590da500-3e48-7059-4f0b-1ef1801dd1db",
        "_execution_state": "idle",
        "_uuid": "a78c64aeed1e48aa453ae4b7deef172cb2060b39",
        "id": "dFWTFJKpGIzy"
      },
      "source": [
        "var = 'YearBuilt'\n",
        "data = pd.concat([df_train['SalePrice'], df_train[var]], axis=1)\n",
        "f, ax = plt.subplots(figsize=(16, 8))\n",
        "fig = sns.boxplot(x=var, y=\"SalePrice\", data=data)\n",
        "fig.axis(ymin=0, ymax=800000);\n",
        "plt.xticks(rotation=90);"
      ],
      "execution_count": null,
      "outputs": []
    },
    {
      "cell_type": "markdown",
      "metadata": {
        "_cell_guid": "ad19b4d2-cb40-2e10-c6ee-913a0d5a6618",
        "_uuid": "22f458a1252d0eed8bbd6f0d0b56508033e228bd",
        "id": "o7_FFkmeGIzz"
      },
      "source": [
        "약한 관련성이 있으며 최근의 주택 가격이 높다. 인플레이션이 반영된 가격일 수도 있다.\n",
        "유용한 특성을 선택하는 것이 문제이다. 이러한 특성 선택을 임의로 주관적으로 수행하는 것은 한계가 있다. 객관적인 방법이 필요하다."
      ]
    },
    {
      "cell_type": "markdown",
      "metadata": {
        "_cell_guid": "ad19b4d2-cb40-2e10-c6ee-913a0d5a6618",
        "_uuid": "22f458a1252d0eed8bbd6f0d0b56508033e228bd",
        "id": "L0qKv5ZXGIzz"
      },
      "source": [
        "### 객관적으로 판단하는 방법으로는...\n",
        "- Correlation matrix (heatmap style).\n",
        "- 'SalePrice' correlation matrix (zoomed heatmap style).\n",
        "- Scatter plots between the most correlated variables"
      ]
    },
    {
      "cell_type": "code",
      "metadata": {
        "_cell_guid": "4eb7a6ef-adf5-6abf-947d-c95afdc477b8",
        "_execution_state": "idle",
        "_uuid": "5dfee22210f5a126ea34ca6475bb4f365d41317b",
        "id": "CTzyQbYzGIzz"
      },
      "source": [
        "## correlation matrix\n",
        "# print(df_train.corr())\n",
        "corrmat = df_train.corr()\n",
        "# corrmat\n",
        "\n",
        "f, ax = plt.subplots(figsize=(14, 10))\n",
        "sns.heatmap(corrmat, vmax=.8, square=True);"
      ],
      "execution_count": null,
      "outputs": []
    },
    {
      "cell_type": "markdown",
      "metadata": {
        "_cell_guid": "977fb7af-70e1-bfb8-e381-3176ec0321b0",
        "_uuid": "b6eb357b201b4d2a9e81f4373cadb9aeccc2482c",
        "id": "Sr0-N8c3GIzz"
      },
      "source": [
        "히트맵 타입의 상관관계 지도는 유용하다. 그림을 보면 'TotalBsmtSF', '1stFlrSF', 'GarageX' 등의 상관관계가 큰 것을 알 수 있다. 경우에 따라서는 두개의 특성이 거의 동일한 정보를 포함하는 것도 있다.\n",
        "\n",
        "가장 중요한 것은 'SalePrice'와의 상관관계이다. 이를 보면 'GrLivArea', 'TotalBsmtSF', 'OverallQual'가 관련이 많은 것을 알 수 있다. 다른 특성들도 일부 관련이 있으므로 무시할 수 없다."
      ]
    },
    {
      "cell_type": "markdown",
      "metadata": {
        "_cell_guid": "9b557956-df91-bab3-0e8b-d8ffc054470f",
        "_uuid": "6ef7d7b7747807431aa9827046c76bfa3d34ffe1",
        "id": "LIxhotnrGIzz"
      },
      "source": [
        "#### 'SalePrice' correlation matrix (zoomed heatmap style)"
      ]
    },
    {
      "cell_type": "code",
      "metadata": {
        "scrolled": true,
        "id": "TL90cyWuGIzz"
      },
      "source": [
        "corrmat"
      ],
      "execution_count": null,
      "outputs": []
    },
    {
      "cell_type": "code",
      "metadata": {
        "id": "F_8FyWR6GIz0"
      },
      "source": [
        "corrmat.sort_values(by='SalePrice', ascending=False).T.tail()   # just for checking"
      ],
      "execution_count": null,
      "outputs": []
    },
    {
      "cell_type": "code",
      "metadata": {
        "_cell_guid": "bc33db9e-9ee3-6cfe-7643-a2aff5a9234d",
        "_execution_state": "idle",
        "_uuid": "a6ee47c540ce9f3f1d2af6efe0b030e76e3a3f7f",
        "scrolled": true,
        "id": "BZ-lr3q4GIz0"
      },
      "source": [
        "# saleprice correlation matrix\n",
        "# # df.nlargest(): Get the rows of a DataFrame sorted by the n largest values of columns.\n",
        "k = 5      #number of variables for heatmap\n",
        "cols = corrmat.nlargest(k, 'SalePrice')\n",
        "cols"
      ],
      "execution_count": null,
      "outputs": []
    },
    {
      "cell_type": "code",
      "metadata": {
        "_cell_guid": "bc33db9e-9ee3-6cfe-7643-a2aff5a9234d",
        "_execution_state": "idle",
        "_uuid": "a6ee47c540ce9f3f1d2af6efe0b030e76e3a3f7f",
        "id": "8R3Z9eg9GIz0"
      },
      "source": [
        "cols = cols['SalePrice']; cols"
      ],
      "execution_count": null,
      "outputs": []
    },
    {
      "cell_type": "code",
      "metadata": {
        "_cell_guid": "bc33db9e-9ee3-6cfe-7643-a2aff5a9234d",
        "_execution_state": "idle",
        "_uuid": "a6ee47c540ce9f3f1d2af6efe0b030e76e3a3f7f",
        "id": "RA67nck5GIz0"
      },
      "source": [
        "cols = cols.index; cols"
      ],
      "execution_count": null,
      "outputs": []
    },
    {
      "cell_type": "code",
      "metadata": {
        "scrolled": true,
        "id": "aydvkp7oGIz1"
      },
      "source": [
        "df_train[cols].values"
      ],
      "execution_count": null,
      "outputs": []
    },
    {
      "cell_type": "code",
      "metadata": {
        "id": "FifN6cXmGIz1"
      },
      "source": [
        "df_train[cols].corr()   # dataframe"
      ],
      "execution_count": null,
      "outputs": []
    },
    {
      "cell_type": "code",
      "metadata": {
        "id": "HMuPeaEgGIz1"
      },
      "source": [
        "cm = df_train[cols].corr().values"
      ],
      "execution_count": null,
      "outputs": []
    },
    {
      "cell_type": "code",
      "metadata": {
        "_cell_guid": "bc33db9e-9ee3-6cfe-7643-a2aff5a9234d",
        "_execution_state": "idle",
        "_uuid": "a6ee47c540ce9f3f1d2af6efe0b030e76e3a3f7f",
        "id": "6c_77r_JGIz1"
      },
      "source": [
        "# same as the above (numpy 에도 동일 기능 함수가 있음)\n",
        "cm2 = np.corrcoef(df_train[cols].values.T) # Return correlation coefficients.\n",
        "                                          # Each row of x represents a variable, and \n",
        "                                          # each column a single observation of variables\n",
        "cm2"
      ],
      "execution_count": null,
      "outputs": []
    },
    {
      "cell_type": "code",
      "metadata": {
        "_cell_guid": "bc33db9e-9ee3-6cfe-7643-a2aff5a9234d",
        "_execution_state": "idle",
        "_uuid": "a6ee47c540ce9f3f1d2af6efe0b030e76e3a3f7f",
        "id": "AABCqDllGIz1"
      },
      "source": [
        "sns.set(font_scale=1.25)\n",
        "hm = sns.heatmap(cm, cbar=True, annot=True, square=True,\n",
        "        fmt='.2f', annot_kws={'size': 10}, \n",
        "        yticklabels=cols.values, xticklabels=cols.values)\n",
        "plt.show()"
      ],
      "execution_count": null,
      "outputs": []
    },
    {
      "cell_type": "markdown",
      "metadata": {
        "_cell_guid": "f5c23b8a-aad9-809f-0fdf-f758f926f5c9",
        "_uuid": "c10a0a0bd55e55822726c78a59ab2bb6d9763f68",
        "id": "28W4tHxjGIz2"
      },
      "source": [
        "상관관계가 높은 순으로 정렬했다.\n",
        "\n",
        "* 'OverallQual', 'GrLivArea' and 'TotalBsmtSF'은 'SalePrice'와 상관관계가 크다.\n",
        "* 'GarageCars' and 'GarageArea' 특성은 같은 의미를 갖는 것으로 보인다 (상관관계 0.88).\n",
        "* 'TotalBsmtSF' and '1stFloor' 도 상관관계가 크다. (0.82)\n",
        "* 'FullBath'?? Really? \n",
        "* 'TotRmsAbvGrd' and 'GrLivArea' 도 상관관계가 크다(0.83)."
      ]
    },
    {
      "cell_type": "code",
      "metadata": {
        "_cell_guid": "5a8db5de-d3f9-9a28-f220-bb05d51c53d0",
        "_execution_state": "idle",
        "_uuid": "cdafd230216fd04cc4ecf635967925da0bce9195",
        "id": "bWd9CXMaGIz2"
      },
      "source": [
        "# 산포도\n",
        "# sns.set()\n",
        "cols = ['SalePrice', 'OverallQual', 'GrLivArea', \n",
        "  'GarageCars', 'TotalBsmtSF', 'FullBath', 'YearBuilt']\n",
        "sns.pairplot(df_train[cols], size = 2.5)\n",
        "plt.show();"
      ],
      "execution_count": null,
      "outputs": []
    },
    {
      "cell_type": "markdown",
      "metadata": {
        "_cell_guid": "a61d0a23-e5e4-3190-41a7-03a5110dc967",
        "_uuid": "7dd622e414e1fda79d2d1f163b1d30d6c2de15eb",
        "id": "49AwPcPsGIz2"
      },
      "source": [
        "'TotalBsmtSF' and 'GrLiveArea'이 의미 있게 보인다. 산포도를 보면 직선의 한 쪽에 집중해서 나타나는 것을 알 수 있다. 지하실의 크기는 1층의 면적과 거의 같거나 작다.\n",
        "\n",
        "'YearBuilt'도 약한 지수함수 형태를 보인다. 가격이 계속 오르고 있다."
      ]
    },
    {
      "cell_type": "markdown",
      "metadata": {
        "_cell_guid": "9ce00498-d5e6-9e35-debc-8d507002d461",
        "_uuid": "726efbb348d1022cabb171f622d7b4e01fe8c778",
        "id": "FGDFjpE7GIz2"
      },
      "source": [
        "# 결측치 처리\n",
        "\n",
        "결측 패턴이 산발적인가, 규칙적인가?"
      ]
    },
    {
      "cell_type": "code",
      "metadata": {
        "id": "FwKP8qSyGIz2"
      },
      "source": [
        "#### 참고\n",
        "# df_train.isnull()\n",
        "# df_train.isnull().sum()\n",
        "# df_train.count()          # number of non-null elements\n",
        "# df_train.isnull().sum().sort_values(ascending=False)\n",
        "# df_train.isna().count(), len(df_train)\n",
        "a = np.array([6,9,12])\n",
        "b= np.array([3,3,3])\n",
        "a/b, a/3"
      ],
      "execution_count": null,
      "outputs": []
    },
    {
      "cell_type": "markdown",
      "metadata": {
        "id": "yTGssLwQGIz3"
      },
      "source": [
        "### 연습"
      ]
    },
    {
      "cell_type": "code",
      "metadata": {
        "id": "1WLA5SSUGIz3"
      },
      "source": [
        "df_train.isna().sum()"
      ],
      "execution_count": null,
      "outputs": []
    },
    {
      "cell_type": "code",
      "metadata": {
        "id": "mIHsMZkUGIz3"
      },
      "source": [
        "df_train.count()  # Count non-NA cells for each column or row"
      ],
      "execution_count": null,
      "outputs": []
    },
    {
      "cell_type": "code",
      "metadata": {
        "id": "BSd-V7DVGIz5"
      },
      "source": [
        "df_train.count().head()"
      ],
      "execution_count": null,
      "outputs": []
    },
    {
      "cell_type": "markdown",
      "metadata": {
        "scrolled": true,
        "id": "B6UXqsdzGIz5"
      },
      "source": [
        "# original code"
      ]
    },
    {
      "cell_type": "code",
      "metadata": {
        "scrolled": false,
        "id": "yTzk2T86GIz5"
      },
      "source": [
        "# missing data (아래 코드는 결측치 통계를 찾는 코드이다.)\n",
        "total = df_train.isnull().sum().sort_values(ascending=False)\n",
        "total.head(10)\n",
        "\n",
        "# percent = (df_train.isnull().sum()/df_train.isnull().count()).sort_values(ascending=False)\n",
        "percent = (df_train.isnull().sum()/df_train.shape[0]).sort_values(ascending=False)\n",
        "missing_data = pd.concat([total, percent], axis=1, keys=['Total', 'Percent'])\n",
        "missing_data.head(20)"
      ],
      "execution_count": null,
      "outputs": []
    },
    {
      "cell_type": "markdown",
      "metadata": {
        "_cell_guid": "42bf6c61-9836-5c25-ff2f-1219e96f60a2",
        "_uuid": "c7607aaf8378eac11a8a8395dcd4a2346c22f5ea",
        "id": "bBU6bGVUGIz6"
      },
      "source": [
        "### 분석 결과\n",
        "- 결측률이 15% 이상이면 이 특성은 제외하고 분석하는 것이 타당하다.('PoolQC', 'MiscFeature', 'Alley' 등) 이러한 데이터의 중요도도 생각해봐야 한다. \n",
        "\n",
        "- 'Garage*X*'의 결측치 비율이 같고, 중복성이 있다.'Bsmt*X*' 특성도 마찬가지\n",
        "\n",
        "- 'MasVnrArea' and 'MasVnrType'는'YearBuilt'나 'OverallQual' 와 상관과계가 크므로 중복성이 있어 제외 가능하다.\n",
        "\n",
        "- 'Electrical'는 한 값만 결측이므로 해당 샘플만 제거한다.\n",
        "\n",
        "- 'Electrical' 외의 결측치를 관찰한 결과 모두 특성에서 제외하기로 한다. "
      ]
    },
    {
      "cell_type": "code",
      "metadata": {
        "id": "VE2uqu09GIz6"
      },
      "source": [
        "df_train_org = df_train.copy()    # 만일을 위해서 (나중에 비교해 볼 필요가 있을때)"
      ],
      "execution_count": null,
      "outputs": []
    },
    {
      "cell_type": "code",
      "metadata": {
        "_cell_guid": "f43f72c5-5457-1f47-e8ef-502db4355086",
        "_execution_state": "idle",
        "_uuid": "726617e295ee6bfe26ccf277323cc68ef52dc61b",
        "id": "7Fj2X2jYGIz6"
      },
      "source": [
        "df_train = df_train.drop((missing_data[missing_data['Total'] > 1]).index,1)\n",
        "df_train = df_train.drop(df_train.loc[df_train['Electrical'].isnull()].index)\n",
        "\n",
        "df_train.isnull().sum().max()            # nul 합의 최고가 0 인지 확인"
      ],
      "execution_count": null,
      "outputs": []
    },
    {
      "cell_type": "code",
      "metadata": {
        "id": "9N6pXPTRGIz6"
      },
      "source": [
        "df_train.shape    # 18 개 columns , 1 row 제거"
      ],
      "execution_count": null,
      "outputs": []
    },
    {
      "cell_type": "markdown",
      "metadata": {
        "_cell_guid": "bf77b1ad-c87b-0be1-7adc-02b0186e2c37",
        "_uuid": "402bab0012e6f60f3fd045788d9c60e02e43e46d",
        "id": "qDKT-9FxGIz7"
      },
      "source": [
        "# 특이값(outlier)\n",
        "\n",
        "중요한 의미나 정보를 포함할 수 있다. 표준편차나 산포도에서 찾을 수 있다."
      ]
    },
    {
      "cell_type": "markdown",
      "metadata": {
        "_cell_guid": "1553bf55-edb3-7c65-f505-227d34d018fb",
        "_uuid": "1c4f41a45aabef83aab703c4e9c0101db1d3c7f7",
        "id": "BVteZAFSGIz7"
      },
      "source": [
        "표준 정규화를 하여 비교한다. 상위 영역에 7 이상의 표준편차 차이가 있는 것을 알 수 있다."
      ]
    },
    {
      "cell_type": "code",
      "metadata": {
        "_cell_guid": "49a133fb-b713-45bd-ca42-c1ca0eb4d3f6",
        "_execution_state": "idle",
        "_uuid": "09b3bc296d01936b3b6df7f3ea670499e926720e",
        "id": "qC2b9T3gGIz7"
      },
      "source": [
        "# saleprice_scaled = StandardScaler().fit_transform(df_train['SalePrice'][:,np.newaxis])\n",
        "# saleprice_scaled\n",
        "\n",
        "saleprice_scaled = StandardScaler().fit_transform(np.array(df_train['SalePrice']).reshape(-1,1))\n",
        "saleprice_scaled"
      ],
      "execution_count": null,
      "outputs": []
    },
    {
      "cell_type": "code",
      "metadata": {
        "id": "rFpsXlMFGIz7"
      },
      "source": [
        "saleprice_scaled[:,0]"
      ],
      "execution_count": null,
      "outputs": []
    },
    {
      "cell_type": "code",
      "metadata": {
        "_cell_guid": "49a133fb-b713-45bd-ca42-c1ca0eb4d3f6",
        "_execution_state": "idle",
        "_uuid": "09b3bc296d01936b3b6df7f3ea670499e926720e",
        "id": "DRl0ndFCGIz8"
      },
      "source": [
        "low_range = saleprice_scaled[saleprice_scaled[:,0].argsort()][:10]\n",
        "high_range= saleprice_scaled[saleprice_scaled[:,0].argsort()][-10:]\n",
        "\n",
        "# argsort() : sorting 후 순서가 index 로 나타남\n",
        "# >>> x = np.array([3, 1, 2])\n",
        "# >>> np.argsort(x)\n",
        "# array([1, 2, 0])\n",
        "\n",
        "print('outer range (low) of the distribution:')\n",
        "print(low_range)\n",
        "print('\\nouter range (high) of the distribution:')\n",
        "print(high_range)"
      ],
      "execution_count": null,
      "outputs": []
    },
    {
      "cell_type": "code",
      "metadata": {
        "id": "hgi_XfWoGIz8"
      },
      "source": [
        "## exercise: for newaxis - to increase the dimension\n",
        "print(df_train['SalePrice'].shape)\n",
        "print(type(df_train['SalePrice']))     # series\n",
        "df_train['SalePrice'].head()"
      ],
      "execution_count": null,
      "outputs": []
    },
    {
      "cell_type": "code",
      "metadata": {
        "id": "gRATKImyGIz8"
      },
      "source": [
        "plt.plot(df_train['SalePrice'])   # if not shown, x-axis is default len(y)"
      ],
      "execution_count": null,
      "outputs": []
    },
    {
      "cell_type": "code",
      "metadata": {
        "id": "76h-HcGXGIz8"
      },
      "source": [
        "plt.plot(saleprice_scaled)"
      ],
      "execution_count": null,
      "outputs": []
    },
    {
      "cell_type": "code",
      "metadata": {
        "id": "_VgD5TRwGIz9"
      },
      "source": [
        "# for your reference\n",
        "ser = df_train['SalePrice']\n",
        "ser_arr = np.array(df_train['SalePrice'])\n",
        "ser_arr_resh = ser_arr.reshape(-1,1)\n",
        "ser_newax = ser[:, np.newaxis]\n",
        "\n",
        "print(type(ser), type(ser_arr), type(ser_arr_resh), type(ser_newax))\n",
        "print(ser.shape, ser_arr.shape, ser_arr_resh.shape, ser_newax.shape)\n",
        "print('****')\n",
        "print(\"array = \", '\\n', ser_arr)\n",
        "print(\"reshaped array = \", '\\n', ser_arr_resh)\n",
        "print(\"newaxised array = \", '\\n', ser_newax )\n",
        "###\n",
        "print(ser.shape, ser_arr_resh.shape, ser_newax.shape)\n",
        "print('----')\n",
        "print(type(df_train['SalePrice'][:,np.newaxis]))    # array\n",
        "print(df_train['SalePrice'][:,np.newaxis])\n",
        "print(df_train['SalePrice'][:,np.newaxis].shape)\n",
        "df_train['SalePrice'].values.reshape(-1,1).shape"
      ],
      "execution_count": null,
      "outputs": []
    },
    {
      "cell_type": "code",
      "metadata": {
        "id": "aQC3wjmOGIz9"
      },
      "source": [
        "# exercise: newaxis (축을 새로 추가하기)\n",
        "import numpy as np\n",
        "x = np.array([1,2,3,4])\n",
        "print(x, x.shape)"
      ],
      "execution_count": null,
      "outputs": []
    },
    {
      "cell_type": "code",
      "metadata": {
        "scrolled": true,
        "id": "sQEmeCtmGIz9"
      },
      "source": [
        "x[:,np.newaxis]"
      ],
      "execution_count": null,
      "outputs": []
    },
    {
      "cell_type": "code",
      "metadata": {
        "id": "jBfm0qPzGIz9"
      },
      "source": [
        "x.reshape(4,1)  # 동일한 효과"
      ],
      "execution_count": null,
      "outputs": []
    },
    {
      "cell_type": "code",
      "metadata": {
        "id": "vS0oEqkcGIz-"
      },
      "source": [
        "x[np.newaxis,:]"
      ],
      "execution_count": null,
      "outputs": []
    },
    {
      "cell_type": "code",
      "metadata": {
        "id": "Dw8nLZUrGIz-"
      },
      "source": [
        "x.reshape(1,4)"
      ],
      "execution_count": null,
      "outputs": []
    },
    {
      "cell_type": "code",
      "metadata": {
        "id": "BZD9FBDpGIz-"
      },
      "source": [
        "print(x[:,np.newaxis], x[:,np.newaxis].shape)\n",
        "print(x[np.newaxis,:], x[np.newaxis,:].shape)"
      ],
      "execution_count": null,
      "outputs": []
    },
    {
      "cell_type": "code",
      "metadata": {
        "id": "1ozRZFZBGIz-"
      },
      "source": [
        "print(x.reshape(-1,1), x.reshape(-1,1).shape)\n",
        "print(x.reshape(1,-1), x.reshape(1,-1).shape)"
      ],
      "execution_count": null,
      "outputs": []
    },
    {
      "cell_type": "markdown",
      "metadata": {
        "_cell_guid": "ae1b038a-9016-1412-bfb8-e2a27022a02f",
        "_uuid": "6b9511771766dbdb72abe83ec3f479c40c08ce6d",
        "id": "8nct-4MNGIz-"
      },
      "source": [
        "### Bivariate 분석"
      ]
    },
    {
      "cell_type": "code",
      "metadata": {
        "_cell_guid": "a03b5ee8-0701-10f0-2d4c-06fcaf1fada5",
        "_execution_state": "idle",
        "_uuid": "4d3e3941ca62ce141f96d0fd2f3276cd80e03ed3",
        "id": "6-ubmsJaGIz_"
      },
      "source": [
        "# bivariate analysis saleprice/grlivarea\n",
        "var = 'GrLivArea'\n",
        "data = pd.concat([df_train['SalePrice'], df_train[var]], axis=1)\n",
        "\n",
        "data.plot.scatter(x=var, y='SalePrice', ylim=(0,800000));"
      ],
      "execution_count": null,
      "outputs": []
    },
    {
      "cell_type": "markdown",
      "metadata": {
        "_cell_guid": "48c2ad5c-b861-6b33-a292-9d6b7b58b1cc",
        "_uuid": "8ef88aabbea5235f920f0a12eba9cf9f640b5f6d",
        "id": "GHZt7ehaGIz_"
      },
      "source": [
        "우측의 두 점은 트렌드를 따르지 않는 값으로 여기서는 삭제한다. 상위의 두 점은 7~ 값을 갖는 케이스인데 트렌드를 따르므로 삭제하지 않는다."
      ]
    },
    {
      "cell_type": "code",
      "metadata": {
        "_cell_guid": "63a6517c-431f-c3fe-30cf-61034e54a5cb",
        "_execution_state": "idle",
        "_uuid": "ff34e1e620a89d16ecf35508e40e23b1d7a4771c",
        "id": "XWsM7lgcGIz_"
      },
      "source": [
        "#deleting points\n",
        "df_train.sort_values(by = 'GrLivArea', ascending = False)[:2]"
      ],
      "execution_count": null,
      "outputs": []
    },
    {
      "cell_type": "code",
      "metadata": {
        "_cell_guid": "63a6517c-431f-c3fe-30cf-61034e54a5cb",
        "_execution_state": "idle",
        "_uuid": "ff34e1e620a89d16ecf35508e40e23b1d7a4771c",
        "id": "YIIhvxSDGIz_"
      },
      "source": [
        "df_train = df_train.drop(df_train[df_train['Id'] == 1299].index)\n",
        "df_train = df_train.drop(df_train[df_train['Id'] == 524].index)"
      ],
      "execution_count": null,
      "outputs": []
    },
    {
      "cell_type": "code",
      "metadata": {
        "_cell_guid": "1d4bf215-19d5-877e-1958-f5713009a94a",
        "_execution_state": "idle",
        "_uuid": "a48108966041d652f9fee571bf9ff08a7c73f6ef",
        "scrolled": true,
        "id": "VuqcgYzjGIz_"
      },
      "source": [
        "#bivariate analysis saleprice/grlivarea\n",
        "var = 'TotalBsmtSF'\n",
        "data = pd.concat([df_train['SalePrice'], df_train[var]], axis=1)\n",
        "data.plot.scatter(x=var, y='SalePrice', ylim=(0,800000));"
      ],
      "execution_count": null,
      "outputs": []
    },
    {
      "cell_type": "markdown",
      "metadata": {
        "_cell_guid": "ff4b9944-30d2-834a-de2f-6ee1b54aefc6",
        "_uuid": "83b610acd7caee0f0ac5e82856bbeb17fb54ceee",
        "id": "qgU6oCUwGI0A"
      },
      "source": [
        "우측의 이상치가 있어 보이지만 그대로 둔다."
      ]
    },
    {
      "cell_type": "code",
      "metadata": {
        "id": "ebPbGT5YGI0A"
      },
      "source": [
        "#bivariate analysis saleprice/overallqual\n",
        "var = 'OverallQual'\n",
        "data = pd.concat([df_train['SalePrice'], df_train[var]], axis=1)\n",
        "data.plot.scatter(x=var, y='SalePrice', ylim=(0,800000));"
      ],
      "execution_count": null,
      "outputs": []
    },
    {
      "cell_type": "markdown",
      "metadata": {
        "_cell_guid": "a0b5def9-2709-a643-0ade-2689b6b36dae",
        "_uuid": "283f857f9ac2e1510cd238f59d937132a5492da6",
        "id": "9z61vHCGGI0A"
      },
      "source": [
        "# 다음 단계"
      ]
    },
    {
      "cell_type": "markdown",
      "metadata": {
        "_cell_guid": "1b997f3f-c28f-6029-64c9-2d2bfc01077c",
        "_uuid": "f8e75e15ed7cba60c64c44b4fa3ec6737414e218",
        "id": "YM16ckbtGI0A"
      },
      "source": [
        "점검할 사항:\n",
        "\n",
        "- 정규성\n",
        "- 등분산성\n",
        "- 선형관계성\n",
        "- 상호 연관된 오류의 부재"
      ]
    },
    {
      "cell_type": "markdown",
      "metadata": {
        "_cell_guid": "0f1a301d-0c06-548f-540d-124975931e70",
        "_uuid": "2497351eca10510469b27ca8518c5c1510932dc1",
        "id": "QqIxuZ_-GI0A"
      },
      "source": [
        "### In the search for normality"
      ]
    },
    {
      "cell_type": "markdown",
      "metadata": {
        "_cell_guid": "0d4f4ca7-3d4f-99e2-2aa7-1a6a6fc9e62e",
        "_uuid": "b408f24ef2b8fe26e44243fd7b0931a169789cc1",
        "id": "Rq6iembkGI0B"
      },
      "source": [
        "- 히스토그램: Kurtosis and skewness (첨도 및 왜도) 점검\n",
        "- Normal probability plot"
      ]
    },
    {
      "cell_type": "code",
      "metadata": {
        "_cell_guid": "99ca9885-9335-411e-9b35-21ff69d312e6",
        "_execution_state": "idle",
        "_uuid": "ad844362305f49c0e199ffe276dd119563d46a72",
        "id": "GbKav3v0GI0B"
      },
      "source": [
        "# 히스토그램과 정규분포 플롯\n",
        "sns.distplot(df_train['SalePrice']);  #  plot the estimated PDF over the data.\n",
        "# sns.distplot(df_train['SalePrice'], fit=norm);\n",
        "fig = plt.figure()\n",
        "# res = stats.probplot(df_train['SalePrice'], plot=plt)\n",
        "# stats.probplot(): Generates a probability plot of sample data against the quantiles \n",
        "# of a specified theoretical distribution (the normal distribution by default). \n",
        "# probplot optionally calculates a best-fit line for the data and plots the results \n",
        "# using Matplotlib or a given plot function."
      ],
      "execution_count": null,
      "outputs": []
    },
    {
      "cell_type": "markdown",
      "metadata": {
        "_cell_guid": "ad84e765-4e47-2f00-dc09-474bf24c1dee",
        "_uuid": "eb8588ce1dd5cfcdd62a943268fa7d252ca7c447",
        "id": "RHAGf2d5GI0B"
      },
      "source": [
        "'SalePrice'는 정규분포는 아니다. 정점(peakedness)이 존재하고 양의 왜곡(positive skewness)를 보인다. 양의 왜곡에는 로그 변환을 하면 도움이 된다. "
      ]
    },
    {
      "cell_type": "code",
      "metadata": {
        "_cell_guid": "cced5b14-c39d-c847-6dc9-93af3f4b6e6d",
        "_execution_state": "idle",
        "_uuid": "f578838e98e9996b09abbec058200cb18aa38869",
        "id": "61nEnKm3GI0D"
      },
      "source": [
        "# 로그변환\n",
        "df_train['SalePrice'] = np.log(df_train['SalePrice'])"
      ],
      "execution_count": null,
      "outputs": []
    },
    {
      "cell_type": "code",
      "metadata": {
        "_cell_guid": "0e17fba2-3ff2-d6f1-841d-bc2a9746bcc2",
        "_execution_state": "idle",
        "_uuid": "de8366b3ad71c7cb398644766a412bee1d05642f",
        "scrolled": true,
        "id": "YNGkCDh2GI0D"
      },
      "source": [
        "sns.distplot(df_train['SalePrice'], fit=norm);\n",
        "# sns.distplot(df_train['SalePrice']);\n",
        "fig = plt.figure()\n",
        "# res = stats.probplot(df_train['SalePrice'], plot=plt)"
      ],
      "execution_count": null,
      "outputs": []
    },
    {
      "cell_type": "markdown",
      "metadata": {
        "_cell_guid": "74131161-b766-8b08-5ae3-0b70688a198a",
        "_uuid": "19b172dfedfef5330c53cc34837d47641a3cf135",
        "id": "aQIQNLTjGI0E"
      },
      "source": [
        "'GrLivArea'에 대해서 알아보겠다."
      ]
    },
    {
      "cell_type": "code",
      "metadata": {
        "_cell_guid": "bda5d77e-07ea-1d16-644c-a850487cc35d",
        "_execution_state": "idle",
        "_uuid": "aa29a3612ee861c42e5d6022ac3a8ad75266b0ee",
        "scrolled": true,
        "id": "Ua4IVsJ6GI0E"
      },
      "source": [
        "sns.distplot(df_train['GrLivArea'], fit=norm);\n",
        "fig = plt.figure()\n",
        "# res = stats.probplot(df_train['GrLivArea'], plot=plt)"
      ],
      "execution_count": null,
      "outputs": []
    },
    {
      "cell_type": "code",
      "metadata": {
        "_cell_guid": "c0fe3abe-cc32-6f2e-0e79-1afd9b49c7ad",
        "_execution_state": "idle",
        "_uuid": "aa428f580e39e498dc06747423955fa714d97952",
        "id": "W2-PWG-wGI0E"
      },
      "source": [
        "df_train['GrLivArea'] = np.log(df_train['GrLivArea'])"
      ],
      "execution_count": null,
      "outputs": []
    },
    {
      "cell_type": "code",
      "metadata": {
        "_cell_guid": "0171b317-885d-7092-ade9-d2332b8ea796",
        "_execution_state": "idle",
        "_uuid": "bb004d70d1f260289f864c2ecb5c5dceedc2d6fa",
        "id": "fA_04O0tGI0E"
      },
      "source": [
        "# 로그 변환 후 플롯\n",
        "sns.distplot(df_train['GrLivArea'], fit=norm);\n",
        "fig = plt.figure()\n",
        "# res = stats.probplot(df_train['GrLivArea'], plot=plt)"
      ],
      "execution_count": null,
      "outputs": []
    },
    {
      "cell_type": "markdown",
      "metadata": {
        "_cell_guid": "1686254a-4391-a744-b8ae-653364e216d4",
        "_uuid": "bdd45521276779b330af14f279bf578a9457dac0",
        "id": "ouTRnyK9GI0F"
      },
      "source": [
        "TotalBsmtSF 변수에 대한 그래프"
      ]
    },
    {
      "cell_type": "code",
      "metadata": {
        "_cell_guid": "4cec452c-ccfd-e65e-2e8b-6c601d3664cd",
        "_execution_state": "idle",
        "_uuid": "b9b1528dcb2a5d1a85c469c69f9df08149fe5ff0",
        "id": "3Ss23S6OGI0F"
      },
      "source": [
        "# histogram and normal probability plot\n",
        "sns.distplot(df_train['TotalBsmtSF'], fit=norm);\n",
        "fig = plt.figure()\n",
        "# res = stats.probplot(df_train['TotalBsmtSF'], plot=plt)"
      ],
      "execution_count": null,
      "outputs": []
    },
    {
      "cell_type": "code",
      "metadata": {
        "id": "ClkRwJYwGI0F"
      },
      "source": [
        "# pd.Series(len(df_train['TotalBsmtSF']), index=df_train.index)"
      ],
      "execution_count": null,
      "outputs": []
    },
    {
      "cell_type": "markdown",
      "metadata": {
        "_cell_guid": "8212aea1-70b8-5cdb-1d54-ebad40f3d73e",
        "_uuid": "317120e4f6469692db40bfb8c9c450cf2dc91938",
        "id": "gNQj7WZrGI0F"
      },
      "source": [
        "값이 0인 것은 로그 변환을 할 수 없다. 0인 경우는 '지하실 없음' 등으로 표현하고 0 이상인 값에 대해서만 로그 변환을 할 수 있다."
      ]
    },
    {
      "cell_type": "code",
      "metadata": {
        "_cell_guid": "a025f96a-c537-92d5-9187-355cb4f0a520",
        "_execution_state": "idle",
        "_uuid": "5cb8e327f4fd2e4714ec522bdd64c6ed81781652",
        "scrolled": true,
        "id": "qRiriSPbGI0F"
      },
      "source": [
        "# 별도의 컬럼 추가\n",
        "# area>0 이면 1, for area==0 이면 0\n",
        "df_train['HasBsmt'] = pd.Series(len(df_train['TotalBsmtSF']), index=df_train.index)\n",
        "df_train.head()"
      ],
      "execution_count": null,
      "outputs": []
    },
    {
      "cell_type": "code",
      "metadata": {
        "_cell_guid": "a025f96a-c537-92d5-9187-355cb4f0a520",
        "_execution_state": "idle",
        "_uuid": "5cb8e327f4fd2e4714ec522bdd64c6ed81781652",
        "id": "kn2_1e7TGI0G"
      },
      "source": [
        "df_train['HasBsmt'] = 0 \n",
        "df_train.loc[df_train['TotalBsmtSF']>0,'HasBsmt'] = 1\n",
        "df_train.head()"
      ],
      "execution_count": null,
      "outputs": []
    },
    {
      "cell_type": "code",
      "metadata": {
        "id": "eroqusv9GI0G"
      },
      "source": [
        "# df_train.HasBsmt"
      ],
      "execution_count": null,
      "outputs": []
    },
    {
      "cell_type": "code",
      "metadata": {
        "_cell_guid": "9933a45e-93f0-b43f-e7ad-2cb1986570d8",
        "_execution_state": "idle",
        "_uuid": "a7b15dd8a8163ab753ca2aa9e16ed38616bd2d03",
        "id": "1Sq9SKwMGI0G"
      },
      "source": [
        "# 양수인 경우 로그 변환\n",
        "df_train.loc[df_train['HasBsmt']==1,'TotalBsmtSF'] = np.log(df_train['TotalBsmtSF'])"
      ],
      "execution_count": null,
      "outputs": []
    },
    {
      "cell_type": "code",
      "metadata": {
        "_cell_guid": "8a2dc1c6-162d-4b42-8687-046b1ca47511",
        "_execution_state": "idle",
        "_uuid": "f8b1b53558610f9623617fd71a6440439a47e48e",
        "scrolled": true,
        "id": "Evc-eeW-GI0G"
      },
      "source": [
        "# 히스토그램\n",
        "sns.distplot(df_train[df_train['TotalBsmtSF']>0]['TotalBsmtSF'], fit=norm);\n",
        "fig = plt.figure()\n",
        "# res = stats.probplot(df_train[df_train['TotalBsmtSF']>0]['TotalBsmtSF'], plot=plt)"
      ],
      "execution_count": null,
      "outputs": []
    },
    {
      "cell_type": "markdown",
      "metadata": {
        "_cell_guid": "78c3c8e5-4ddd-e9ba-6ea8-a23b9d2b21a5",
        "_uuid": "f6f0988bbc48a298177ecc7ec70f2706c72fc1db",
        "id": "ud6TovJ7GI0G"
      },
      "source": [
        "### homoscedasticity (동질학)\n",
        "- 산포도로 확인할 수 있다."
      ]
    },
    {
      "cell_type": "code",
      "metadata": {
        "_cell_guid": "a5f13ea7-70af-6a3d-bff1-84a696972e59",
        "_execution_state": "busy",
        "_uuid": "d6db45dbc22abfcdaf49be23f70e6b8f4ca4c13b",
        "id": "uFD9JKaSGI0H"
      },
      "source": [
        "#scatter plot\n",
        "plt.scatter(df_train['GrLivArea'], df_train['SalePrice']);"
      ],
      "execution_count": null,
      "outputs": []
    },
    {
      "cell_type": "code",
      "metadata": {
        "_cell_guid": "d5a6cecd-4f33-5afe-2c95-9459da03091f",
        "_execution_state": "idle",
        "_uuid": "45cdf80ae7cf8bf1d5d62ff09f6e9b106047cafb",
        "id": "yNFm-gB6GI0H"
      },
      "source": [
        "#scatter plot\n",
        "plt.scatter(df_train[df_train['TotalBsmtSF']>0]['TotalBsmtSF'], df_train[df_train['TotalBsmtSF']>0]['SalePrice']);"
      ],
      "execution_count": null,
      "outputs": []
    },
    {
      "cell_type": "markdown",
      "metadata": {
        "id": "vpCjiW3mGI0H"
      },
      "source": [
        "# 위의 처리 이전과 이후를 비교해 보기 위해"
      ]
    },
    {
      "cell_type": "code",
      "metadata": {
        "id": "Ztgw8zHtGI0H"
      },
      "source": [
        "df_train_org.shape, df_train.shape"
      ],
      "execution_count": null,
      "outputs": []
    },
    {
      "cell_type": "code",
      "metadata": {
        "id": "VkSW4KFCGI0H"
      },
      "source": [
        "###\n",
        "from sklearn.linear_model import LinearRegression\n",
        "from sklearn.model_selection import train_test_split\n",
        "df = df_train_org.copy()\n",
        "corrmat = df.corr()\n",
        "corrmat.sort_values(by='SalePrice', ascending=False).T.tail()\n",
        "\n",
        "cols = corrmat.nlargest(5, 'SalePrice') \n",
        "df2 = df[cols.index]\n",
        "\n",
        "X, y = df2.values[:,1:], df2.values[:,0]\n",
        "X_train, X_test, y_train, y_test = train_test_split(X, y, test_size=0.2)\n",
        "model = LinearRegression()\n",
        "model.fit(X_train, y_train)\n",
        "print(\"Before the data cleaning: \", model.score(X_test, y_test))\n",
        "\n",
        "###\n",
        "df = df_train.copy()\n",
        "corrmat = df.corr()\n",
        "cols = corrmat.nlargest(5, 'SalePrice') \n",
        "df3 = df[cols.index]\n",
        "X, y = df3.values[:,1:], df3.values[:,0]\n",
        "X_train, X_test, y_train, y_test = train_test_split(X, y, test_size=0.2)\n",
        "model = LinearRegression()\n",
        "model.fit(X_train, y_train)\n",
        "print(\"After the data cleaning: \", model.score(X_test, y_test))"
      ],
      "execution_count": null,
      "outputs": []
    },
    {
      "cell_type": "markdown",
      "metadata": {
        "id": "GUjC4iYJGI0I"
      },
      "source": [
        "# 모두 사용:\n",
        "- int64 타입이 아닌 컬럼들은 모두 LabelEncoding() or OneHotEncoding()"
      ]
    },
    {
      "cell_type": "code",
      "metadata": {
        "id": "S-CfOgJkGI0I"
      },
      "source": [
        "df = df_train.copy()\n",
        "df.columns"
      ],
      "execution_count": null,
      "outputs": []
    },
    {
      "cell_type": "code",
      "metadata": {
        "scrolled": true,
        "id": "hKmHOsK1GI0I"
      },
      "source": [
        "df.head()"
      ],
      "execution_count": null,
      "outputs": []
    },
    {
      "cell_type": "code",
      "metadata": {
        "scrolled": true,
        "id": "PAAlDX2TGI0I"
      },
      "source": [
        "from sklearn.preprocessing import LabelEncoder, OneHotEncoder\n",
        "print(type(df.dtypes))    # series\n",
        "len(df.dtypes)"
      ],
      "execution_count": null,
      "outputs": []
    },
    {
      "cell_type": "code",
      "metadata": {
        "id": "wq5SD9gtGI0L"
      },
      "source": [
        "df.dtypes"
      ],
      "execution_count": null,
      "outputs": []
    },
    {
      "cell_type": "code",
      "metadata": {
        "id": "xuo9lmjuGI0M"
      },
      "source": [
        "# string 인 column 은 모두 LabelEncoder\n",
        "for i in range(1, len(df.dtypes)-1):\n",
        "    if df.dtypes[i] != 'int64':\n",
        "        df.iloc[:,i] = LabelEncoder().fit_transform(df.iloc[:,i])"
      ],
      "execution_count": null,
      "outputs": []
    },
    {
      "cell_type": "code",
      "metadata": {
        "id": "IQXelQ4MGI0M"
      },
      "source": [
        "(df.dtypes != 'int64').sum()"
      ],
      "execution_count": null,
      "outputs": []
    },
    {
      "cell_type": "code",
      "metadata": {
        "scrolled": true,
        "id": "Bgsl_kLmGI0M"
      },
      "source": [
        "X, y = df.values[:,1:-1], df.values[:,-1]\n",
        "X_train, X_test, y_train, y_test = train_test_split(X, y, test_size=0.2)\n",
        "model = LinearRegression()\n",
        "model.fit(X_train, y_train)\n",
        "print(\"Using all the featurs: \", model.score(X_test, y_test))"
      ],
      "execution_count": null,
      "outputs": []
    },
    {
      "cell_type": "markdown",
      "metadata": {
        "id": "5FGqXrElGI0M"
      },
      "source": [
        "# 연습"
      ]
    },
    {
      "cell_type": "markdown",
      "metadata": {
        "scrolled": false,
        "id": "MWN0I_31GI0M"
      },
      "source": [
        "### Exercise for skewness, kurtosis"
      ]
    },
    {
      "cell_type": "code",
      "metadata": {
        "id": "ANtXl7tUGI0N"
      },
      "source": [
        "sample_df = pd.DataFrame(10*np.random.randn(10000,1))\n",
        "sample_df.head()\n",
        "print(sample_df.skew(), sample_df.kurtosis())   # excess kurtosis = kurtosis -3\n",
        "sns.distplot(sample_df, color='b')"
      ],
      "execution_count": null,
      "outputs": []
    },
    {
      "cell_type": "markdown",
      "metadata": {
        "scrolled": false,
        "id": "lKWu1mnnGI0N"
      },
      "source": [
        "- kurtosis(첨도): b=3 정규분포, b>3 뾰족함, b<3 평평함\n",
        "- skewness(왜도): a=0 정규분포, a>0 좌측치우침, a<0 우측치우침\n",
        "- excess kurtosis (초과왜도): defined as kurtosis -3\n",
        "- Note: The only data values (observed or observable) that contribute to kurtosis in \n",
        "  any meaningful way are those outside the region of the peak; i.e., the outliers. \n",
        "  Therefore, kurtosis measures outliers only; it measures nothing about the \"peak\"."
      ]
    },
    {
      "cell_type": "markdown",
      "metadata": {
        "id": "Kk8-K7ThGI0N"
      },
      "source": [
        "### Python print 방법 연습"
      ]
    },
    {
      "cell_type": "code",
      "metadata": {
        "id": "krqwHay0GI0N"
      },
      "source": [
        "# 1. 포맷 문자열 (f-문자열)\n",
        "table = {'Sjoerd': 4127, 'Jack': 4098, 'Dcab': 7678}\n",
        "# table.items()              # dict.items(), dict.keys(), dict.values()\n",
        "for name, phone in table.items():\n",
        "    print(f'{name:7s} ==> {phone:7d}')"
      ],
      "execution_count": null,
      "outputs": []
    },
    {
      "cell_type": "code",
      "metadata": {
        "id": "dlESWsOOGI0N"
      },
      "source": [
        "# 2. 문자열 format 메쏘드\n",
        "print('The story of {1}, {0}, and {other}.'.format('Bill', 'Manfred', other='Georg'))"
      ],
      "execution_count": null,
      "outputs": []
    },
    {
      "cell_type": "code",
      "metadata": {
        "scrolled": false,
        "id": "D_80DRoKGI0O"
      },
      "source": [
        "# 3. 예전의 문자열 포맷팅 (use %) - sprintf() 스타일\n",
        "print('%(language)s has %(number)03d quote types.' % {'language': \"Python\", \"number\": 2})"
      ],
      "execution_count": null,
      "outputs": []
    },
    {
      "cell_type": "markdown",
      "metadata": {
        "id": "lkK-BsFNGI0O"
      },
      "source": [
        "### Correlation\n",
        "- np.corrcoef() and df.corr()\n",
        "- df.corr() is NaN tolerant whereas np.corrcoef is not."
      ]
    },
    {
      "cell_type": "code",
      "metadata": {
        "id": "0wlIHzaPGI0O"
      },
      "source": [
        "a = np.array([1, 2, 3, 4, 5, np.nan])\n",
        "b = np.array([2, 3, 4, 5.25, np.nan, 100])\n",
        "print(np.corrcoef(a,b))\n",
        "# ----\n",
        "print(np.ma.masked_invalid(a),np.ma.masked_invalid(b))\n",
        "np.ma.corrcoef(np.ma.masked_invalid(a), np.ma.masked_invalid(b))"
      ],
      "execution_count": null,
      "outputs": []
    },
    {
      "cell_type": "code",
      "metadata": {
        "id": "0VVKk-V4GI0O"
      },
      "source": [
        "a = np.array([1, 2, 3, 4, 5, np.nan])\n",
        "b = np.array([2, 3, 4, 5.25, np.nan, 100])\n",
        "df = pd.concat([pd.DataFrame(a), pd.DataFrame(b)], axis=1)\n",
        "df.corr()"
      ],
      "execution_count": null,
      "outputs": []
    },
    {
      "cell_type": "markdown",
      "metadata": {
        "id": "K1HzBoxFGI0O"
      },
      "source": [
        "### exercise "
      ]
    },
    {
      "cell_type": "code",
      "metadata": {
        "id": "P6SuQfTiGI0P"
      },
      "source": [
        "array = np.array([[1, np.nan, 3], [4, 5, np.nan]])\n",
        "print(pd.isna(array))\n",
        "print(pd.isna(array[0]))\n",
        "\n",
        "df = pd.DataFrame([['ant', 'bee', 'cat'], ['dog', None, 'fly']],\n",
        "                 columns=['A','B','C']); df\n",
        "\n",
        "df['A'] # column name 0 (feature), not a row index (index)\n",
        "\n",
        "df[['A','B']]\n",
        "\n",
        "df[:1].values == df.iloc[:1].values\n",
        "\n",
        "pd.isna(df)"
      ],
      "execution_count": null,
      "outputs": []
    },
    {
      "cell_type": "code",
      "metadata": {
        "id": "LJbNnUUMGI0P"
      },
      "source": [
        ""
      ],
      "execution_count": null,
      "outputs": []
    }
  ]
}